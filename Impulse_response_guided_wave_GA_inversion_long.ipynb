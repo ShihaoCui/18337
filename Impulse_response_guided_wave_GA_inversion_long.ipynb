{
  "nbformat": 4,
  "nbformat_minor": 0,
  "metadata": {
    "colab": {
      "provenance": [],
      "machine_shape": "hm",
      "collapsed_sections": [
        "BDf4pqRwKuuD",
        "p2HmQZccK8Qi",
        "9mGwX1F0J74X",
        "bPfSPUFhKC-t",
        "RPPR8ZanRlHH",
        "aU-pDCCbRlHJ",
        "RQ6IjJirRlHK",
        "zDmVA_wsRlHP",
        "oqUxOlNsRlHQ",
        "Qjp7oIdGTW_d",
        "oL6VVQ0qTW_e",
        "rlhtFAIETW_f",
        "ij1FVil8TW_g",
        "m6Ub2z-jTW_g",
        "fB7MVrFPU5WK",
        "1ydK_WQCU5WM",
        "NpfnME8dU5WN",
        "exYk0RW3U5WO",
        "LOi6b69IU5WO",
        "LpEA2hL3U6ja",
        "0BOndndpU6jb",
        "lM2-mj6pU6jc",
        "IFS8WF1UU6je",
        "chShfl2bU6jf"
      ],
      "authorship_tag": "ABX9TyOOWBY2ldUH986fvevynamL",
      "include_colab_link": true
    },
    "kernelspec": {
      "name": "python3",
      "display_name": "Python 3"
    },
    "language_info": {
      "name": "python"
    }
  },
  "cells": [
    {
      "cell_type": "markdown",
      "metadata": {
        "id": "view-in-github",
        "colab_type": "text"
      },
      "source": [
        "<a href=\"https://colab.research.google.com/github/ShihaoCui/18337/blob/master/Impulse_response_guided_wave_GA_inversion_long.ipynb\" target=\"_parent\"><img src=\"https://colab.research.google.com/assets/colab-badge.svg\" alt=\"Open In Colab\"/></a>"
      ]
    },
    {
      "cell_type": "code",
      "source": [
        "# This is to install the package of Genegtic algorithm"
      ],
      "metadata": {
        "id": "5Uhw9ef6P5ad"
      },
      "execution_count": null,
      "outputs": []
    },
    {
      "cell_type": "code",
      "source": [
        "pip install scikit-opt"
      ],
      "metadata": {
        "colab": {
          "base_uri": "https://localhost:8080/"
        },
        "id": "idd4su7Vj8MK",
        "outputId": "ffc1019b-1b07-4f59-dc45-7d9edf90d28d"
      },
      "execution_count": null,
      "outputs": [
        {
          "output_type": "stream",
          "name": "stdout",
          "text": [
            "Looking in indexes: https://pypi.org/simple, https://us-python.pkg.dev/colab-wheels/public/simple/\n",
            "Collecting scikit-opt\n",
            "  Downloading scikit_opt-0.6.6-py3-none-any.whl (35 kB)\n",
            "Requirement already satisfied: numpy in /usr/local/lib/python3.7/dist-packages (from scikit-opt) (1.21.6)\n",
            "Requirement already satisfied: scipy in /usr/local/lib/python3.7/dist-packages (from scikit-opt) (1.4.1)\n",
            "Installing collected packages: scikit-opt\n",
            "Successfully installed scikit-opt-0.6.6\n"
          ]
        }
      ]
    },
    {
      "cell_type": "code",
      "source": [
        "from dataclasses import dataclass    \n",
        "from math import erfc  \n",
        "from joblib import Parallel, delayed  \n",
        "import json  \n",
        "import numpy as np \n",
        "# from geondt import PoroSEM\n",
        "from scipy.special import jv,jn_zeros\n",
        "from scipy import special,optimize \n",
        "import numpy as np\n",
        "import scipy.special as sp\n",
        "import matplotlib.pyplot as plt\n",
        "from numpy.linalg import inv"
      ],
      "metadata": {
        "id": "2mLAf00pPq-B"
      },
      "execution_count": null,
      "outputs": []
    },
    {
      "cell_type": "code",
      "source": [],
      "metadata": {
        "id": "_L42k3oMPudY"
      },
      "execution_count": null,
      "outputs": []
    },
    {
      "cell_type": "markdown",
      "source": [
        "# GW model"
      ],
      "metadata": {
        "id": "fz6DgEfYbnt_"
      }
    },
    {
      "cell_type": "code",
      "source": [],
      "metadata": {
        "id": "0OKbsskKbxMF"
      },
      "execution_count": null,
      "outputs": []
    },
    {
      "cell_type": "code",
      "source": [
        "\"\"\"\n",
        "This module is used to perform dispersion analysis for a cylindrical pile. \n",
        "\"\"\"\n",
        "from dataclasses import dataclass    \n",
        "from math import erfc  \n",
        "from joblib import Parallel, delayed  \n",
        "import json  \n",
        "import numpy as np \n",
        "# from geondt import PoroSEM\n",
        "from scipy.special import jv,jn_zeros\n",
        "from scipy import special,optimize \n",
        "\n",
        "@dataclass\n",
        "class DPR:\n",
        "    ''' \n",
        "    Object for the dispersion analysis of a cylindrical pile with a finite length L an a finite radius r\n",
        "\n",
        "    :param fn: A mandatory (floating) vector that defines the given frequencies (Hz) which refers to the resonace frequency observed by the responses \n",
        "    :param E:    A mandatory (floating) scalar that defines the Young's modulus (Pa) of the test pile \n",
        "    :param vv:   A mandatory (floating) scalar that defines the Poisson's ratio of the test pile\n",
        "    :param rho:  A mandatory (floating) scalar that defines the density (kg/m^3) for test pile\n",
        "    :param r:  A mandatory (floating) scalar that defines the radius of the test pile\n",
        "    :param m:  A mandatory (floating) scalar that defines the which mode would be used, where m = 0 longitudinal mode; m=1 flexural mode; m is defaluted as 0(longitudinal mode).\n",
        "    :return:  Dispersion relations, i.e., the relation between the phase velocity and the given resonance frequencies\n",
        "    ''' \n",
        "    \n",
        "    def __init__(self, fn, E, rho, vv, r,m=0):\n",
        "        self.fn = fn\n",
        "        self.E = E\n",
        "        self.rho = rho\n",
        "        self.vv = vv\n",
        "        self.r = r\n",
        "        self.m = m\n",
        "\n",
        "    def model_L(self, i): \n",
        "        ''' Define dispersion modelling and root searching algorithm for the longtudinal guided wave model for a cylinder waveguide(Pile)'''\n",
        "                \n",
        "        # Bessel functions at order 0, 1, and 2 of the 1st kind\n",
        "        def J0(y):\n",
        "            return sp.jv(0, y)\n",
        "        def J1(y):\n",
        "            return sp.jv(1, y)\n",
        "        def J2(y):\n",
        "            return sp.jv(2, y)\n",
        "    \n",
        "        def fun(k): \n",
        "            E = self.E\n",
        "            rho  = self.rho\n",
        "            vv = self.vv\n",
        "            \n",
        "            r = self.r\n",
        "            \n",
        "            cb = np.sqrt(E/rho) # bar velocity\n",
        "\n",
        "        #     #lame coefficients\n",
        "            nu = E/(2*(1+vv))\n",
        "            lbd = E*vv/((1+vv)*(1-2*vv)) \n",
        "\n",
        "            cs = cb*np.sqrt(1/(2*(1+vv))) # shear wave speed\n",
        "            cp = cb*np.sqrt((1-vv)/((1+vv)*(1-2*vv))) # longtudinal wave speed\n",
        "        #     print(str(cs)+str(\"      \")+str(cp))\n",
        "\n",
        "            ks = np.sqrt(np.complex(-k**2+(w**2)/(cs**2))) # the wavenumebr of the shear waves\n",
        "            kp = np.sqrt(np.complex(-k**2+(w**2)/(cp**2))) # the wavenumber of the longitudinal waves\n",
        "\n",
        "            M = np.zeros([2,2],dtype = complex)# the matrix of the disperison relation, |M|=0 is the spectrum relation\n",
        "            M[0,0] = -(lbd*k**2+lbd*kp**2+2*nu*kp**2)*J0(kp*r)+2*nu*kp*J1(kp*r)/r\n",
        "            M[0,1] = -2*nu*1j*k*ks*J0(ks*r)+2*nu*1j*k*J1(ks*r)/r\n",
        "            M[1,0] = -2*1j*nu*k*kp*J1(kp*r)\n",
        "            M[1,1] = nu*(k**2-ks**2)*J1(ks*r)\n",
        "    \n",
        "            return np.linalg.det(M)/1e9\n",
        "    \n",
        "    \n",
        "        w = i*2*np.pi # w omega: angular frequency\n",
        "        incre = 1000 # initialization of the phase velocity\n",
        "        root = 0.00001 # the initialization of the root\n",
        "        step_length = 1 # the step length of the searching algorithm\n",
        "        \n",
        "        for j in range(10**6):\n",
        "            past = incre\n",
        "            val1 = fun(w/incre)\n",
        "            incre =  incre + step_length\n",
        "            val2 = fun(w/incre)\n",
        "            if (np.real(val1) * np.real(val2) <= 0):\n",
        "                root =  optimize.ridder(fun,w/incre,w/past) # the classical Ridders' algorithm\n",
        "                break \n",
        "        return (w/root)     #give one value at a frequency \n",
        "\n",
        "\n",
        "    \n",
        "    def model_F(self, i): \n",
        "        ''' Define dispersion modelling and root searching algorithm for the flexural guided wave model for a cylinder waveguide(Pile)'''\n",
        "                \n",
        "        # Bessel functions at order 0, 1, and 2 of the 1st kind\n",
        "        def J0(y):\n",
        "            return sp.jv(0, y)\n",
        "        def J1(y):\n",
        "            return sp.jv(1, y)\n",
        "        def J2(y):\n",
        "            return sp.jv(2, y)\n",
        "    \n",
        "        def fun(k): \n",
        "            E = self.E\n",
        "            rho  = self.rho\n",
        "            vv = self.vv\n",
        "            \n",
        "            r = self.r\n",
        "            \n",
        "            cb = np.sqrt(E/rho) # bar velocity\n",
        "\n",
        "        #     #lame coefficients\n",
        "            nu = E/(2*(1+vv))\n",
        "            lbd = E*vv/((1+vv)*(1-2*vv)) \n",
        "\n",
        "            cs = cb*np.sqrt(1/(2*(1+vv))) # shear wave speed\n",
        "            cp = cb*np.sqrt((1-vv)/((1+vv)*(1-2*vv))) # longtudinal wave speed\n",
        "        #     print(str(cs)+str(\"      \")+str(cp))\n",
        "\n",
        "            ks = np.sqrt(np.complex(-k**2+(w**2)/(cs**2))) # the wavenumebr of the shear waves\n",
        "            kp = np.sqrt(np.complex(-k**2+(w**2)/(cp**2))) # the wavenumber of the longitudinal waves\n",
        "\n",
        "            M = np.zeros([3,3],dtype = complex) # the matrix of the disperison relation, |M|=0 is the spectrum relation\n",
        "            M[0,0] =  (-2*kp*r*nu*J0(kp*r)-(-4*nu+r**2*(k**2*lbd+kp**2*(lbd+2*nu)))*J1(kp*r))/(r**2)\n",
        "            M[0,1] = -(2*ks*nu*J2(ks*r))/r\n",
        "            M[0,2] =  (2*1j*k*nu*(2*ks*r*J0(ks*r)+(-4+ks**2*r**2)*J1(ks*r)))/(ks*r**2)\n",
        "            M[1,0] =  (2*kp*nu*J2(kp*r))/r\n",
        "            M[1,1] =  nu*(2*ks*r*J0(ks*r)+(-4+ks**2*r**2)*J1(ks*r))/r**2\n",
        "            M[1,2] =  1j*k*nu*(4*ks*r*J0(ks*r)+(-8+ks**2*r**2)*J1(ks*r))/(ks*r**2)\n",
        "            M[2,0] =  2*1j*k*nu*(kp*r*J0(kp*r)-J1(kp*r))/r\n",
        "            M[2,1] =  1j*k*nu*J1(ks*r)/r\n",
        "            M[2,2] = -0.5*nu*(ks**2*J0(ks*r)+(2*k**2-ks**2)*J2(ks*r))\n",
        "    \n",
        "            return np.linalg.det(M)/1e9\n",
        "    \n",
        "    \n",
        "        w = i*2*np.pi # w omega: angular frequency\n",
        "        incre = 5 # initialization of the phase velocity\n",
        "        root = 0.00001 # the initialization of the root\n",
        "        step_length = 1 # the step length of the searching algorithm\n",
        "        \n",
        "        for j in range(10**6):\n",
        "            past = incre\n",
        "            val1 = fun(w/incre)\n",
        "            incre =  incre + step_length\n",
        "            val2 = fun(w/incre)\n",
        "            if (np.real(val1) * np.real(val2) <= 0):\n",
        "                root =  optimize.ridder(fun,w/incre,w/past) # the classical Ridders' algorithm\n",
        "                break \n",
        "        return (w/root)     #give one value at a frequency \n",
        "\n",
        "    def run(self):\n",
        "        ''' Define function to be used for the Parallel computing'''\n",
        "        omega = np.array(self.fn) # fn is the given input frequency (Hz) vector\n",
        "        root_all = [] # the result of the phase velocity by the theoretical model corresponding to the give frequency vector (fn)\n",
        "        for i in range(len(fn)):\n",
        "          if self.m ==0:\n",
        "            root_all.append(self.model_L(omega[i]))\n",
        "          elif self.m == 1:\n",
        "            root_all.append(self.model_F(omega[i]))\n",
        "          else:\n",
        "            print(\"Input error; m should be either o or 1; m=0 indicating longitudinal mode,m=1 indicating flexural mode; \")\n",
        "        return np.array(root_all) "
      ],
      "metadata": {
        "id": "zLyv1u48bjnA"
      },
      "execution_count": null,
      "outputs": []
    },
    {
      "cell_type": "code",
      "source": [],
      "metadata": {
        "id": "zTY2asLZcAss"
      },
      "execution_count": null,
      "outputs": []
    },
    {
      "cell_type": "code",
      "source": [],
      "metadata": {
        "id": "QiSvaCKmH-v-"
      },
      "execution_count": null,
      "outputs": []
    },
    {
      "cell_type": "markdown",
      "source": [
        "## Function of error display"
      ],
      "metadata": {
        "id": "plLMQ6u2H_L2"
      }
    },
    {
      "cell_type": "code",
      "source": [
        "def error_rate_fun(Real,Res_Est):\n",
        "  V_error = (Real-Res_Est)/(Real)\n",
        "  L_error = V_error[0]\n",
        "  E_error = V_error[1]\n",
        "  rho_error = V_error[2]\n",
        "  vv_error = V_error[3]\n",
        "\n",
        "  print(\"L_error\",L_error)\n",
        "  print(\"E_error\",E_error)\n",
        "  print(\"rho_error\",rho_error)\n",
        "  print(\"vv_error\",vv_error)\n",
        "\n",
        "  # The error of bar velocity\n",
        "  Cb_error = (np.sqrt(Res_Est[1]/Res_Est[2])-np.sqrt(Real[1]/Real[2]))/(np.sqrt(Real[1]/Real[2]))\n",
        "  print(\"bar velocity: Cb_error\",Cb_error)\n",
        "\n",
        "  # The error of shear velocity\n",
        "\n",
        "  cb_est = np.sqrt(Res_Est[1]/Res_Est[2])\n",
        "  cb_real = np.sqrt(Real[1]/Real[2])\n",
        "\n",
        "  vv_est = Res_Est[3]\n",
        "  vv_real = Real[3]\n",
        "\n",
        "  cs_est = (cb_est)*np.sqrt((1-vv_est)/((1+vv_est)*(1-2*vv_est)))\n",
        "  cs_real = (cb_real)*np.sqrt((1-vv_real)/((1+vv_real)*(1-2*vv_real)))\n",
        "\n",
        "  cs_error  = (cs_est-cs_real)/cs_real\n",
        "  cs_error\n",
        "  print(\"shear velocity: cs_error\",cs_error)\n",
        "\n",
        "  # The error of longitudinal velocity\n",
        "\n",
        "  cp_est = (cb_est)/np.sqrt(2*(1+vv_est))\n",
        "  cp_real = (cb_real)/np.sqrt(2*(1+vv_real))\n",
        "\n",
        "  cp_error  = (cp_est-cp_real)/cp_real\n",
        "  cp_error\n",
        "  print(\"longitudinal velocity: cp_error\",cp_error)\n",
        "  \n",
        "  return None"
      ],
      "metadata": {
        "id": "7CBLcouvFF3B"
      },
      "execution_count": null,
      "outputs": []
    },
    {
      "cell_type": "code",
      "source": [],
      "metadata": {
        "id": "XBj8-uBovZWn"
      },
      "execution_count": null,
      "outputs": []
    },
    {
      "cell_type": "code",
      "source": [],
      "metadata": {
        "id": "R8ikjhbMvZgP"
      },
      "execution_count": null,
      "outputs": []
    },
    {
      "cell_type": "markdown",
      "source": [
        "## Expreiment data of the example using the longitudinal model"
      ],
      "metadata": {
        "id": "wXX04Trt00Nj"
      }
    },
    {
      "cell_type": "markdown",
      "source": [
        "## Pile C"
      ],
      "metadata": {
        "id": "e-d9uN_ODUbs"
      }
    },
    {
      "cell_type": "markdown",
      "source": [
        "### observation data"
      ],
      "metadata": {
        "id": "ojsyOrM3KqR1"
      }
    },
    {
      "cell_type": "code",
      "source": [
        "# Pile C\n",
        "# experimental data: SC and DC BC respectively\n",
        "F_res = np.array([419.52,804.79, 1190.07, 1566.78, 1986.30,2388.70, 2773.97,3184.93,3561.64,3981.16,4315.07, 4720.03, 5128.42])\n",
        "n = np.linspace(1,F_res.shape[0],F_res.shape[0])\n",
        "L = 4.829\n",
        "C_ph_res_s = 2*L*F_res/(n-0.5)\n",
        "C_ph_res_d = 2*L*F_res/(n)"
      ],
      "metadata": {
        "id": "O76SuWBj00Nj",
        "colab": {
          "base_uri": "https://localhost:8080/",
          "height": 581
        },
        "outputId": "51b46db1-3ab7-41c3-c60f-018d4e34219a"
      },
      "execution_count": null,
      "outputs": [
        {
          "output_type": "error",
          "ename": "NameError",
          "evalue": "ignored",
          "traceback": [
            "\u001b[0;31m---------------------------------------------------------------------------\u001b[0m",
            "\u001b[0;31mNameError\u001b[0m                                 Traceback (most recent call last)",
            "\u001b[0;32m<ipython-input-1-5bbc15af8401>\u001b[0m in \u001b[0;36m<module>\u001b[0;34m\u001b[0m\n\u001b[1;32m      1\u001b[0m \u001b[0;31m# Pile C\u001b[0m\u001b[0;34m\u001b[0m\u001b[0;34m\u001b[0m\u001b[0;34m\u001b[0m\u001b[0m\n\u001b[1;32m      2\u001b[0m \u001b[0;31m# experimental data: SC and DC BC respectively\u001b[0m\u001b[0;34m\u001b[0m\u001b[0;34m\u001b[0m\u001b[0;34m\u001b[0m\u001b[0m\n\u001b[0;32m----> 3\u001b[0;31m \u001b[0mF_res\u001b[0m \u001b[0;34m=\u001b[0m \u001b[0mnp\u001b[0m\u001b[0;34m.\u001b[0m\u001b[0marray\u001b[0m\u001b[0;34m(\u001b[0m\u001b[0;34m[\u001b[0m\u001b[0;36m419.52\u001b[0m\u001b[0;34m,\u001b[0m\u001b[0;36m804.79\u001b[0m\u001b[0;34m,\u001b[0m \u001b[0;36m1190.07\u001b[0m\u001b[0;34m,\u001b[0m \u001b[0;36m1566.78\u001b[0m\u001b[0;34m,\u001b[0m \u001b[0;36m1986.30\u001b[0m\u001b[0;34m,\u001b[0m\u001b[0;36m2388.70\u001b[0m\u001b[0;34m,\u001b[0m \u001b[0;36m2773.97\u001b[0m\u001b[0;34m,\u001b[0m\u001b[0;36m3184.93\u001b[0m\u001b[0;34m,\u001b[0m\u001b[0;36m3561.64\u001b[0m\u001b[0;34m,\u001b[0m\u001b[0;36m3981.16\u001b[0m\u001b[0;34m,\u001b[0m\u001b[0;36m4315.07\u001b[0m\u001b[0;34m,\u001b[0m \u001b[0;36m4720.03\u001b[0m\u001b[0;34m,\u001b[0m \u001b[0;36m5128.42\u001b[0m\u001b[0;34m]\u001b[0m\u001b[0;34m)\u001b[0m\u001b[0;34m\u001b[0m\u001b[0;34m\u001b[0m\u001b[0m\n\u001b[0m\u001b[1;32m      4\u001b[0m \u001b[0mn\u001b[0m \u001b[0;34m=\u001b[0m \u001b[0mnp\u001b[0m\u001b[0;34m.\u001b[0m\u001b[0mlinspace\u001b[0m\u001b[0;34m(\u001b[0m\u001b[0;36m1\u001b[0m\u001b[0;34m,\u001b[0m\u001b[0mF_res\u001b[0m\u001b[0;34m.\u001b[0m\u001b[0mshape\u001b[0m\u001b[0;34m[\u001b[0m\u001b[0;36m0\u001b[0m\u001b[0;34m]\u001b[0m\u001b[0;34m,\u001b[0m\u001b[0mF_res\u001b[0m\u001b[0;34m.\u001b[0m\u001b[0mshape\u001b[0m\u001b[0;34m[\u001b[0m\u001b[0;36m0\u001b[0m\u001b[0;34m]\u001b[0m\u001b[0;34m)\u001b[0m\u001b[0;34m\u001b[0m\u001b[0;34m\u001b[0m\u001b[0m\n\u001b[1;32m      5\u001b[0m \u001b[0mL\u001b[0m \u001b[0;34m=\u001b[0m \u001b[0;36m4.829\u001b[0m\u001b[0;34m\u001b[0m\u001b[0;34m\u001b[0m\u001b[0m\n",
            "\u001b[0;31mNameError\u001b[0m: name 'np' is not defined"
          ]
        }
      ]
    },
    {
      "cell_type": "code",
      "source": [],
      "metadata": {
        "id": "Xo1fXH9c_IC1"
      },
      "execution_count": null,
      "outputs": []
    },
    {
      "cell_type": "code",
      "source": [
        "F_res.shape[0]"
      ],
      "metadata": {
        "id": "8lPIb_tq00Nj"
      },
      "execution_count": null,
      "outputs": []
    },
    {
      "cell_type": "code",
      "source": [
        "n"
      ],
      "metadata": {
        "id": "D1_sGU6Z3AkT"
      },
      "execution_count": null,
      "outputs": []
    },
    {
      "cell_type": "code",
      "source": [
        "fn = F_res\n",
        "E = 18773059558.275; # Young’s modulus\n",
        "cb =3799\n",
        "rho = E/cb**2;# density\n",
        "print(\"rho\",rho)\n",
        "vv = 0.2 # poisson's ratio\n",
        "r = 0.2/2\n",
        "m = 0 # Longitudinal\n",
        "dpr = DPR(fn,E,rho,vv,r,m)\n",
        "K_exp = dpr.run()"
      ],
      "metadata": {
        "id": "wB9v310600Nk"
      },
      "execution_count": null,
      "outputs": []
    },
    {
      "cell_type": "markdown",
      "source": [
        "#### Experimental and theoretical phase velocity"
      ],
      "metadata": {
        "id": "BDf4pqRwKuuD"
      }
    },
    {
      "cell_type": "code",
      "source": [
        "import numpy as np\n",
        "np.set_printoptions(threshold=np.inf)\n",
        "f1 = F_res\n",
        "plt.plot(f1,np.array(K_exp),label = 'Theoretical',c = 'y')\n",
        "plt.scatter(f1,C_ph_res_s,label = 'Experimental: DCBC',c = 'red')\n",
        "plt.scatter(f1,C_ph_res_d,label = 'Experimental: SCBC',c = 'blue')\n",
        "plt.legend()\n",
        "plt.xlabel(\"Frequency (Hz)\")\n",
        "plt.ylabel(\"Phase velocity(m/s)\")"
      ],
      "metadata": {
        "id": "HVwl4sc_00Nk"
      },
      "execution_count": null,
      "outputs": []
    },
    {
      "cell_type": "code",
      "source": [],
      "metadata": {
        "id": "IAaayvN3vZi_"
      },
      "execution_count": null,
      "outputs": []
    },
    {
      "cell_type": "markdown",
      "source": [
        "### GA for inversion"
      ],
      "metadata": {
        "id": "p2HmQZccK8Qi"
      }
    },
    {
      "cell_type": "code",
      "source": [
        "import numpy as np\n",
        "from sko.GA import GA, GA_TSP\n",
        "fn = np.array(F_res) # experimental resonance frequency\n",
        "n = n # resonance number\n",
        "\n",
        "def demo_func(x):\n",
        "    L,En,rho_n,vv = x\n",
        "    dpr = DPR(fn,En*1e9,rho_n*1e3,vv,r)\n",
        "    d_temp = dpr.run()\n",
        "    fitness_d = np.abs(np.mean(d_temp/(2*L)-fn/(n)))**2 # the fitness using the displacement control boundary condition\n",
        "    fitness_s = np.abs(np.mean(d_temp/(2*L)-fn/(n-1/2)))**2 # the fitness using the stress control boundary condition\n",
        "    # Loss = fitness_d\n",
        "    Loss = fitness_s\n",
        "    return Loss"
      ],
      "metadata": {
        "id": "aKxmGw-LvZl9"
      },
      "execution_count": null,
      "outputs": []
    },
    {
      "cell_type": "code",
      "source": [
        "ga = GA(func=demo_func, n_dim= 4, size_pop= 20, max_iter= 15, prob_mut=0.05,\n",
        "        lb=[4, 15, 1, 0.18], ub=[5.5, 20, 1.5, 0.22], precision=[0.1, 0.1, 0.1,0.01])"
      ],
      "metadata": {
        "id": "6d9JxWJ8bjuw"
      },
      "execution_count": null,
      "outputs": []
    },
    {
      "cell_type": "code",
      "source": [
        "Res = ga.run()"
      ],
      "metadata": {
        "colab": {
          "base_uri": "https://localhost:8080/"
        },
        "id": "Ve015NiO4mjn",
        "outputId": "0b54eb2d-9377-4d2b-aac2-e37864652a8d"
      },
      "execution_count": null,
      "outputs": [
        {
          "output_type": "stream",
          "name": "stderr",
          "text": [
            "/usr/local/lib/python3.7/dist-packages/ipykernel_launcher.py:63: DeprecationWarning: `np.complex` is a deprecated alias for the builtin `complex`. To silence this warning, use `complex` by itself. Doing this will not modify any behavior and is safe. If you specifically wanted the numpy scalar type, use `np.complex128` here.\n",
            "Deprecated in NumPy 1.20; for more details and guidance: https://numpy.org/devdocs/release/1.20.0-notes.html#deprecations\n",
            "/usr/local/lib/python3.7/dist-packages/ipykernel_launcher.py:64: DeprecationWarning: `np.complex` is a deprecated alias for the builtin `complex`. To silence this warning, use `complex` by itself. Doing this will not modify any behavior and is safe. If you specifically wanted the numpy scalar type, use `np.complex128` here.\n",
            "Deprecated in NumPy 1.20; for more details and guidance: https://numpy.org/devdocs/release/1.20.0-notes.html#deprecations\n",
            "/usr/local/lib/python3.7/dist-packages/scipy/optimize/zeros.py:650: ComplexWarning: Casting complex values to real discards the imaginary part\n",
            "  r = _zeros._ridder(f, a, b, xtol, rtol, maxiter, args, full_output, disp)\n"
          ]
        }
      ]
    },
    {
      "cell_type": "code",
      "source": [],
      "metadata": {
        "id": "TDaQ3gO9FFyC"
      },
      "execution_count": null,
      "outputs": []
    },
    {
      "cell_type": "markdown",
      "source": [
        "#### Inversion error"
      ],
      "metadata": {
        "id": "9mGwX1F0J74X"
      }
    },
    {
      "cell_type": "code",
      "source": [
        "# The are: Length L, E youbg's modulus, rho density, Poissio's ratio, vv respectively\n",
        "Real =  np.array([L,E/1e9,rho/1e3,vv])\n",
        "print(\"Real value of L,E,rho,vv\",Real)\n",
        "Res_Est = Res[0]\n",
        "print(\"Estimated value of L,E,rho,vv\",Res_Est)\n",
        "error_rate_fun(Real,Res_Est)"
      ],
      "metadata": {
        "colab": {
          "base_uri": "https://localhost:8080/"
        },
        "id": "JhoFKRtTFF7s",
        "outputId": "08ee716f-b3a4-4f31-e17a-d384ddc357e0"
      },
      "execution_count": null,
      "outputs": [
        {
          "output_type": "stream",
          "name": "stdout",
          "text": [
            "Real value of L,E,rho,vv [ 4.829      18.77305956  1.3007579   0.2       ]\n",
            "Estimated value of L,E,rho,vv [ 4.7        19.52380952  1.          0.22      ]\n",
            "L_error 0.026713605301304528\n",
            "E_error -0.03999081573272909\n",
            "rho_error 0.23121742861363673\n",
            "vv_error -0.09999999999999995\n",
            "bar velocity: Cb_error 0.16308910461771103\n",
            "shear velocity: cs_error 0.178983194656682\n",
            "longitudinal velocity: cp_error 0.15351619199466146\n"
          ]
        }
      ]
    },
    {
      "cell_type": "code",
      "source": [],
      "metadata": {
        "id": "OCfDADJyHftw"
      },
      "execution_count": null,
      "outputs": []
    },
    {
      "cell_type": "markdown",
      "source": [
        "#### Fitness record display"
      ],
      "metadata": {
        "id": "bPfSPUFhKC-t"
      }
    },
    {
      "cell_type": "code",
      "source": [
        "import pandas as pd\n",
        "import matplotlib.pyplot as plt\n",
        "\n",
        "Y_history = pd.DataFrame(ga.all_history_Y)\n",
        "fig, ax = plt.subplots(1, 1)\n",
        "# ax[0].plot(Y_history.index, Y_history.values, '.', color='red')\n",
        "Y_history.min(axis=1).cummin().plot(kind='line')\n",
        "plt.xlabel(\"Iterations\")\n",
        "plt.ylabel(\"Fitness\")\n",
        "plt.show()"
      ],
      "metadata": {
        "colab": {
          "base_uri": "https://localhost:8080/",
          "height": 278
        },
        "outputId": "e2af3d19-2cc3-4bc6-cb5f-c5f4399c1ac4",
        "id": "SDntQ17_5hq5"
      },
      "execution_count": null,
      "outputs": [
        {
          "output_type": "display_data",
          "data": {
            "text/plain": [
              "<Figure size 432x288 with 1 Axes>"
            ],
            "image/png": "[encoded data removed]"
          },
          "metadata": {
            "needs_background": "light"
          }
        }
      ]
    },
    {
      "cell_type": "code",
      "source": [
        "Y_history.min(axis=1).cummin()"
      ],
      "metadata": {
        "colab": {
          "base_uri": "https://localhost:8080/"
        },
        "outputId": "5ba2e653-1485-4197-c741-9a1448dcf365",
        "id": "p5K2OZKg5hq5"
      },
      "execution_count": null,
      "outputs": [
        {
          "output_type": "execute_result",
          "data": {
            "text/plain": [
              "0     0.010951\n",
              "1     0.010951\n",
              "2     0.010951\n",
              "3     0.010951\n",
              "4     0.010951\n",
              "5     0.010951\n",
              "6     0.010951\n",
              "7     0.010951\n",
              "8     0.010951\n",
              "9     0.010951\n",
              "10    0.010951\n",
              "11    0.010951\n",
              "12    0.010951\n",
              "13    0.010951\n",
              "14    0.010951\n",
              "dtype: float64"
            ]
          },
          "metadata": {},
          "execution_count": 18
        }
      ]
    },
    {
      "cell_type": "code",
      "source": [],
      "metadata": {
        "id": "0Jd3LFBv4mqA"
      },
      "execution_count": null,
      "outputs": []
    },
    {
      "cell_type": "code",
      "source": [],
      "metadata": {
        "id": "hzCaWUvU4mun"
      },
      "execution_count": null,
      "outputs": []
    },
    {
      "cell_type": "code",
      "source": [],
      "metadata": {
        "id": "SGB9I_uUDYdG"
      },
      "execution_count": null,
      "outputs": []
    },
    {
      "cell_type": "code",
      "source": [],
      "metadata": {
        "id": "wY3pb3lZRcIW"
      },
      "execution_count": null,
      "outputs": []
    },
    {
      "cell_type": "markdown",
      "source": [
        "## Pile A"
      ],
      "metadata": {
        "id": "2Dg6_zBIRlHG"
      }
    },
    {
      "cell_type": "markdown",
      "source": [
        "### observation data"
      ],
      "metadata": {
        "id": "RPPR8ZanRlHH"
      }
    },
    {
      "cell_type": "code",
      "source": [
        "# Pile A\n",
        "# experimental data: SC and DC BC respectively\n",
        "F_res = np.array([530.82,1035.96, 1549.66,2063.36, 2577.05,3099.32, 3621.58, 4101.03,4597.60,5136.99])\n",
        "n = np.linspace(1,F_res.shape[0],F_res.shape[0])\n",
        "L = 3.763\n",
        "C_ph_res_s = 2*L*F_res/(n-0.5)\n",
        "C_ph_res_d = 2*L*F_res/(n)"
      ],
      "metadata": {
        "id": "iW6SjZmXRlHI"
      },
      "execution_count": null,
      "outputs": []
    },
    {
      "cell_type": "code",
      "source": [
        "F_res.shape[0]"
      ],
      "metadata": {
        "colab": {
          "base_uri": "https://localhost:8080/"
        },
        "outputId": "56e30589-9787-4c32-8d3f-b27f4b89be8f",
        "id": "1Nu-EnegRlHI"
      },
      "execution_count": null,
      "outputs": [
        {
          "output_type": "execute_result",
          "data": {
            "text/plain": [
              "10"
            ]
          },
          "metadata": {},
          "execution_count": 20
        }
      ]
    },
    {
      "cell_type": "code",
      "source": [
        "n"
      ],
      "metadata": {
        "colab": {
          "base_uri": "https://localhost:8080/"
        },
        "outputId": "d793f2be-d26f-47ca-e795-953a3b2413ce",
        "id": "S797tzwqRlHJ"
      },
      "execution_count": null,
      "outputs": [
        {
          "output_type": "execute_result",
          "data": {
            "text/plain": [
              "array([ 1.,  2.,  3.,  4.,  5.,  6.,  7.,  8.,  9., 10.])"
            ]
          },
          "metadata": {},
          "execution_count": 21
        }
      ]
    },
    {
      "cell_type": "code",
      "source": [
        "fn = F_res\n",
        "E = 18773059558.275; # Young’s modulus\n",
        "cb = 3863\n",
        "rho = E/cb**2;# density\n",
        "print(\"rho\",rho)\n",
        "vv = 0.2 # poisson's ratio\n",
        "r = 0.249/2\n",
        "m = 0 # Longitudinal\n",
        "dpr = DPR(fn,E,rho,vv,r,m)\n",
        "K_exp = dpr.run()"
      ],
      "metadata": {
        "colab": {
          "base_uri": "https://localhost:8080/"
        },
        "outputId": "31d98aa8-9d7a-4383-abe6-632f3c88431a",
        "id": "012xd5XIRlHJ"
      },
      "execution_count": null,
      "outputs": [
        {
          "output_type": "stream",
          "name": "stdout",
          "text": [
            "rho 1258.0144849977241\n"
          ]
        },
        {
          "output_type": "stream",
          "name": "stderr",
          "text": [
            "/usr/local/lib/python3.7/dist-packages/ipykernel_launcher.py:63: DeprecationWarning: `np.complex` is a deprecated alias for the builtin `complex`. To silence this warning, use `complex` by itself. Doing this will not modify any behavior and is safe. If you specifically wanted the numpy scalar type, use `np.complex128` here.\n",
            "Deprecated in NumPy 1.20; for more details and guidance: https://numpy.org/devdocs/release/1.20.0-notes.html#deprecations\n",
            "/usr/local/lib/python3.7/dist-packages/ipykernel_launcher.py:64: DeprecationWarning: `np.complex` is a deprecated alias for the builtin `complex`. To silence this warning, use `complex` by itself. Doing this will not modify any behavior and is safe. If you specifically wanted the numpy scalar type, use `np.complex128` here.\n",
            "Deprecated in NumPy 1.20; for more details and guidance: https://numpy.org/devdocs/release/1.20.0-notes.html#deprecations\n",
            "/usr/local/lib/python3.7/dist-packages/scipy/optimize/zeros.py:650: ComplexWarning: Casting complex values to real discards the imaginary part\n",
            "  r = _zeros._ridder(f, a, b, xtol, rtol, maxiter, args, full_output, disp)\n"
          ]
        }
      ]
    },
    {
      "cell_type": "markdown",
      "source": [
        "#### Experimental and theoretical phase velocity"
      ],
      "metadata": {
        "id": "aU-pDCCbRlHJ"
      }
    },
    {
      "cell_type": "code",
      "source": [
        "import numpy as np\n",
        "np.set_printoptions(threshold=np.inf)\n",
        "f1 = F_res\n",
        "plt.plot(f1,np.array(K_exp),label = 'Theoretical',c = 'y')\n",
        "plt.scatter(f1,C_ph_res_s,label = 'Experimental: DCBC',c = 'red')\n",
        "plt.scatter(f1,C_ph_res_d,label = 'Experimental: SCBC',c = 'blue')\n",
        "plt.legend()\n",
        "plt.xlabel(\"Frequency (Hz)\")\n",
        "plt.ylabel(\"Phase velocity(m/s)\")"
      ],
      "metadata": {
        "colab": {
          "base_uri": "https://localhost:8080/",
          "height": 296
        },
        "outputId": "39bb0b7f-e16a-4d9e-ebf1-8a6b4285dbd1",
        "id": "hIFV6dHBRlHK"
      },
      "execution_count": null,
      "outputs": [
        {
          "output_type": "execute_result",
          "data": {
            "text/plain": [
              "Text(0, 0.5, 'Phase velocity(m/s)')"
            ]
          },
          "metadata": {},
          "execution_count": 23
        },
        {
          "output_type": "display_data",
          "data": {
            "text/plain": [
              "<Figure size 432x288 with 1 Axes>"
            ],
            "image/png": "[encoded data removed]"
          },
          "metadata": {
            "needs_background": "light"
          }
        }
      ]
    },
    {
      "cell_type": "code",
      "source": [],
      "metadata": {
        "id": "3gGixNPxRlHK"
      },
      "execution_count": null,
      "outputs": []
    },
    {
      "cell_type": "markdown",
      "source": [
        "### GA for inversion"
      ],
      "metadata": {
        "id": "RQ6IjJirRlHK"
      }
    },
    {
      "cell_type": "code",
      "source": [
        "import numpy as np\n",
        "from sko.GA import GA, GA_TSP\n",
        "fn = np.array(F_res) # experimental resonance frequency\n",
        "n = n # resonance number\n",
        "\n",
        "def demo_func(x):\n",
        "    L,En,rho_n,vv = x\n",
        "    dpr = DPR(fn,En*1e9,rho_n*1e3,vv,r)\n",
        "    d_temp = dpr.run()\n",
        "    fitness_d = np.abs(np.mean(d_temp/(2*L)-fn/(n)))**2 # the fitness using the displacement control boundary condition\n",
        "    fitness_s = np.abs(np.mean(d_temp/(2*L)-fn/(n-1/2)))**2 # the fitness using the stress control boundary condition\n",
        "    # Loss = fitness_d\n",
        "    Loss = fitness_s\n",
        "    return Loss"
      ],
      "metadata": {
        "id": "zj5rjJ0xRlHL"
      },
      "execution_count": null,
      "outputs": []
    },
    {
      "cell_type": "code",
      "source": [
        "# The are: Length L, E youbg's modulus, rho density, Poissio's ratio, vv respectively\n",
        "Real =  np.array([L,E/1e9,rho/1e3,vv])\n",
        "Real"
      ],
      "metadata": {
        "colab": {
          "base_uri": "https://localhost:8080/"
        },
        "id": "2TnvMzr8TJ3Z",
        "outputId": "74ced18f-21e9-46d9-c6e4-178d17d852b1"
      },
      "execution_count": null,
      "outputs": [
        {
          "output_type": "execute_result",
          "data": {
            "text/plain": [
              "array([ 3.763     , 18.77305956,  1.25801448,  0.2       ])"
            ]
          },
          "metadata": {},
          "execution_count": 25
        }
      ]
    },
    {
      "cell_type": "code",
      "source": [
        "ga = GA(func=demo_func, n_dim= 4, size_pop= 20, max_iter= 15, prob_mut=0.05,\n",
        "        lb=[3, 15, 1, 0.18], ub=[4.5, 20, 1.5, 0.22], precision=[0.1, 0.1, 0.1,0.01])"
      ],
      "metadata": {
        "id": "9IQyyvlcRlHL"
      },
      "execution_count": null,
      "outputs": []
    },
    {
      "cell_type": "code",
      "source": [
        "Res = ga.run()"
      ],
      "metadata": {
        "colab": {
          "base_uri": "https://localhost:8080/"
        },
        "outputId": "39b31f7d-3588-4107-a79b-5e6c26dcc413",
        "id": "lOd9HktSRlHO"
      },
      "execution_count": null,
      "outputs": [
        {
          "output_type": "stream",
          "name": "stderr",
          "text": [
            "/usr/local/lib/python3.7/dist-packages/ipykernel_launcher.py:63: DeprecationWarning: `np.complex` is a deprecated alias for the builtin `complex`. To silence this warning, use `complex` by itself. Doing this will not modify any behavior and is safe. If you specifically wanted the numpy scalar type, use `np.complex128` here.\n",
            "Deprecated in NumPy 1.20; for more details and guidance: https://numpy.org/devdocs/release/1.20.0-notes.html#deprecations\n",
            "/usr/local/lib/python3.7/dist-packages/ipykernel_launcher.py:64: DeprecationWarning: `np.complex` is a deprecated alias for the builtin `complex`. To silence this warning, use `complex` by itself. Doing this will not modify any behavior and is safe. If you specifically wanted the numpy scalar type, use `np.complex128` here.\n",
            "Deprecated in NumPy 1.20; for more details and guidance: https://numpy.org/devdocs/release/1.20.0-notes.html#deprecations\n",
            "/usr/local/lib/python3.7/dist-packages/scipy/optimize/zeros.py:650: ComplexWarning: Casting complex values to real discards the imaginary part\n",
            "  r = _zeros._ridder(f, a, b, xtol, rtol, maxiter, args, full_output, disp)\n"
          ]
        }
      ]
    },
    {
      "cell_type": "code",
      "source": [],
      "metadata": {
        "id": "zxvvrIYURlHO"
      },
      "execution_count": null,
      "outputs": []
    },
    {
      "cell_type": "markdown",
      "source": [
        "#### Inversion error"
      ],
      "metadata": {
        "id": "zDmVA_wsRlHP"
      }
    },
    {
      "cell_type": "code",
      "source": [
        "# The are: Length L, E youbg's modulus, rho density, Poissio's ratio, vv respectively\n",
        "Real =  np.array([L,E/1e9,rho/1e3,vv])\n",
        "print(\"Real value of L,E,rho,vv\",Real)\n",
        "Res_Est = Res[0]\n",
        "print(\"Estimated value of L,E,rho,vv\",Res_Est)\n",
        "error_rate_fun(Real,Res_Est)"
      ],
      "metadata": {
        "colab": {
          "base_uri": "https://localhost:8080/"
        },
        "outputId": "f9f3da1e-1402-48cf-9587-805641ee909b",
        "id": "Xsk-PypuRlHP"
      },
      "execution_count": null,
      "outputs": [
        {
          "output_type": "stream",
          "name": "stdout",
          "text": [
            "Real value of L,E,rho,vv [ 3.763      18.77305956  1.25801448  0.2       ]\n",
            "Estimated value of L,E,rho,vv [ 3.         18.41269841  1.28571429  0.18571429]\n",
            "L_error 0.20276375232527236\n",
            "E_error 0.019195653455312562\n",
            "rho_error -0.022018665958851442\n",
            "vv_error 0.07142857142857145\n",
            "bar velocity: Cb_error -0.02037067529977276\n",
            "shear velocity: cs_error -0.028586588413251787\n",
            "longitudinal velocity: cp_error -0.014486962790871681\n"
          ]
        }
      ]
    },
    {
      "cell_type": "code",
      "source": [],
      "metadata": {
        "id": "xWwh0j4GRlHQ"
      },
      "execution_count": null,
      "outputs": []
    },
    {
      "cell_type": "markdown",
      "source": [
        "#### Fitness record display"
      ],
      "metadata": {
        "id": "oqUxOlNsRlHQ"
      }
    },
    {
      "cell_type": "code",
      "source": [
        "import pandas as pd\n",
        "import matplotlib.pyplot as plt\n",
        "\n",
        "Y_history = pd.DataFrame(ga.all_history_Y)\n",
        "fig, ax = plt.subplots(1, 1)\n",
        "# ax[0].plot(Y_history.index, Y_history.values, '.', color='red')\n",
        "Y_history.min(axis=1).cummin().plot(kind='line')\n",
        "plt.xlabel(\"Iterations\")\n",
        "plt.ylabel(\"Fitness\")\n",
        "plt.show()"
      ],
      "metadata": {
        "colab": {
          "base_uri": "https://localhost:8080/",
          "height": 278
        },
        "outputId": "a08e1833-fa05-4ad4-9836-3da5fa673cc5",
        "id": "70lX8ffxRlHR"
      },
      "execution_count": null,
      "outputs": [
        {
          "output_type": "display_data",
          "data": {
            "text/plain": [
              "<Figure size 432x288 with 1 Axes>"
            ],
            "image/png": "[encoded data removed]"
          },
          "metadata": {
            "needs_background": "light"
          }
        }
      ]
    },
    {
      "cell_type": "code",
      "source": [
        "Y_history.min(axis=1).cummin()"
      ],
      "metadata": {
        "colab": {
          "base_uri": "https://localhost:8080/"
        },
        "outputId": "19df8c07-ee6e-42ee-98c2-7eb06e8bfc57",
        "id": "aOXvzZExRlHR"
      },
      "execution_count": null,
      "outputs": [
        {
          "output_type": "execute_result",
          "data": {
            "text/plain": [
              "0     433.052129\n",
              "1       0.415596\n",
              "2       0.415596\n",
              "3       0.415596\n",
              "4       0.299769\n",
              "5       0.299769\n",
              "6       0.299769\n",
              "7       0.299769\n",
              "8       0.299769\n",
              "9       0.299769\n",
              "10      0.299769\n",
              "11      0.299769\n",
              "12      0.299769\n",
              "13      0.299769\n",
              "14      0.299769\n",
              "dtype: float64"
            ]
          },
          "metadata": {},
          "execution_count": 30
        }
      ]
    },
    {
      "cell_type": "code",
      "source": [],
      "metadata": {
        "id": "8kK7tyxmTQui"
      },
      "execution_count": null,
      "outputs": []
    },
    {
      "cell_type": "code",
      "source": [],
      "metadata": {
        "id": "U-f78ZYuTQ2O"
      },
      "execution_count": null,
      "outputs": []
    },
    {
      "cell_type": "markdown",
      "source": [
        "## Pile B"
      ],
      "metadata": {
        "id": "rINUApEmTW_c"
      }
    },
    {
      "cell_type": "markdown",
      "source": [
        "### observation data"
      ],
      "metadata": {
        "id": "Qjp7oIdGTW_d"
      }
    },
    {
      "cell_type": "code",
      "source": [
        "# Pile B\n",
        "# experimental data: SC and DC BC respectively\n",
        "F_res = np.array([393.84,779.11,  1172.95, 1515.41,  1934.93,2294.52,  2696.92, 3073.63,3441.78, 3878.42,4238.01,4691.78,5051.37])\n",
        "n = np.linspace(1,F_res.shape[0],F_res.shape[0])\n",
        "L = 5.011\n",
        "C_ph_res_s = 2*L*F_res/(n-0.5)\n",
        "C_ph_res_d = 2*L*F_res/(n)"
      ],
      "metadata": {
        "id": "GEpgJUuETW_d"
      },
      "execution_count": null,
      "outputs": []
    },
    {
      "cell_type": "code",
      "source": [
        "F_res.shape[0]"
      ],
      "metadata": {
        "colab": {
          "base_uri": "https://localhost:8080/"
        },
        "outputId": "d5980d38-32c0-4ff4-dff6-4dc8f37a0d77",
        "id": "W2QNHeopTW_d"
      },
      "execution_count": null,
      "outputs": [
        {
          "output_type": "execute_result",
          "data": {
            "text/plain": [
              "13"
            ]
          },
          "metadata": {},
          "execution_count": 32
        }
      ]
    },
    {
      "cell_type": "code",
      "source": [
        "n"
      ],
      "metadata": {
        "colab": {
          "base_uri": "https://localhost:8080/"
        },
        "outputId": "4687d5c0-8db6-420b-e934-d4f1e0c4a7e6",
        "id": "_QgCmlDyTW_e"
      },
      "execution_count": null,
      "outputs": [
        {
          "output_type": "execute_result",
          "data": {
            "text/plain": [
              "array([ 1.,  2.,  3.,  4.,  5.,  6.,  7.,  8.,  9., 10., 11., 12., 13.])"
            ]
          },
          "metadata": {},
          "execution_count": 33
        }
      ]
    },
    {
      "cell_type": "code",
      "source": [
        "fn = F_res\n",
        "E = 18773059558.275; # Young’s modulus\n",
        "cb = 3865\n",
        "rho = E/cb**2;# density\n",
        "print(\"rho\",rho)\n",
        "vv = 0.2 # poisson's ratio\n",
        "r = 0.248/2\n",
        "m = 0 # Longitudinal\n",
        "dpr = DPR(fn,E,rho,vv,r,m)\n",
        "K_exp = dpr.run()"
      ],
      "metadata": {
        "colab": {
          "base_uri": "https://localhost:8080/"
        },
        "outputId": "37429c86-44fd-462b-a8dc-e8ef0d66cd5e",
        "id": "StI35Yo-TW_e"
      },
      "execution_count": null,
      "outputs": [
        {
          "output_type": "stream",
          "name": "stdout",
          "text": [
            "rho 1256.712866373013\n"
          ]
        },
        {
          "output_type": "stream",
          "name": "stderr",
          "text": [
            "/usr/local/lib/python3.7/dist-packages/ipykernel_launcher.py:63: DeprecationWarning: `np.complex` is a deprecated alias for the builtin `complex`. To silence this warning, use `complex` by itself. Doing this will not modify any behavior and is safe. If you specifically wanted the numpy scalar type, use `np.complex128` here.\n",
            "Deprecated in NumPy 1.20; for more details and guidance: https://numpy.org/devdocs/release/1.20.0-notes.html#deprecations\n",
            "/usr/local/lib/python3.7/dist-packages/ipykernel_launcher.py:64: DeprecationWarning: `np.complex` is a deprecated alias for the builtin `complex`. To silence this warning, use `complex` by itself. Doing this will not modify any behavior and is safe. If you specifically wanted the numpy scalar type, use `np.complex128` here.\n",
            "Deprecated in NumPy 1.20; for more details and guidance: https://numpy.org/devdocs/release/1.20.0-notes.html#deprecations\n",
            "/usr/local/lib/python3.7/dist-packages/scipy/optimize/zeros.py:650: ComplexWarning: Casting complex values to real discards the imaginary part\n",
            "  r = _zeros._ridder(f, a, b, xtol, rtol, maxiter, args, full_output, disp)\n"
          ]
        }
      ]
    },
    {
      "cell_type": "markdown",
      "source": [
        "#### Experimental and theoretical phase velocity"
      ],
      "metadata": {
        "id": "oL6VVQ0qTW_e"
      }
    },
    {
      "cell_type": "code",
      "source": [
        "import numpy as np\n",
        "np.set_printoptions(threshold=np.inf)\n",
        "f1 = F_res\n",
        "plt.plot(f1,np.array(K_exp),label = 'Theoretical',c = 'y')\n",
        "plt.scatter(f1,C_ph_res_s,label = 'Experimental: DCBC',c = 'red')\n",
        "plt.scatter(f1,C_ph_res_d,label = 'Experimental: SCBC',c = 'blue')\n",
        "plt.legend()\n",
        "plt.xlabel(\"Frequency (Hz)\")\n",
        "plt.ylabel(\"Phase velocity(m/s)\")"
      ],
      "metadata": {
        "colab": {
          "base_uri": "https://localhost:8080/",
          "height": 296
        },
        "outputId": "c9002584-5f42-4a88-ee1f-f2c3504e2654",
        "id": "idlDPs33TW_e"
      },
      "execution_count": null,
      "outputs": [
        {
          "output_type": "execute_result",
          "data": {
            "text/plain": [
              "Text(0, 0.5, 'Phase velocity(m/s)')"
            ]
          },
          "metadata": {},
          "execution_count": 35
        },
        {
          "output_type": "display_data",
          "data": {
            "text/plain": [
              "<Figure size 432x288 with 1 Axes>"
            ],
            "image/png": "[encoded data removed]"
          },
          "metadata": {
            "needs_background": "light"
          }
        }
      ]
    },
    {
      "cell_type": "code",
      "source": [],
      "metadata": {
        "id": "CntKmpsNTW_f"
      },
      "execution_count": null,
      "outputs": []
    },
    {
      "cell_type": "markdown",
      "source": [
        "### GA for inversion"
      ],
      "metadata": {
        "id": "rlhtFAIETW_f"
      }
    },
    {
      "cell_type": "code",
      "source": [
        "import numpy as np\n",
        "from sko.GA import GA, GA_TSP\n",
        "fn = np.array(F_res) # experimental resonance frequency\n",
        "n = n # resonance number\n",
        "\n",
        "def demo_func(x):\n",
        "    L,En,rho_n,vv = x\n",
        "    dpr = DPR(fn,En*1e9,rho_n*1e3,vv,r)\n",
        "    d_temp = dpr.run()\n",
        "    fitness_d = np.abs(np.mean(d_temp/(2*L)-fn/(n)))**2 # the fitness using the displacement control boundary condition\n",
        "    fitness_s = np.abs(np.mean(d_temp/(2*L)-fn/(n-1/2)))**2 # the fitness using the stress control boundary condition\n",
        "    # Loss = fitness_d\n",
        "    Loss = fitness_s\n",
        "    return Loss"
      ],
      "metadata": {
        "id": "f-vmRWNyTW_f"
      },
      "execution_count": null,
      "outputs": []
    },
    {
      "cell_type": "code",
      "source": [
        "# The are: Length L, E youbg's modulus, rho density, Poissio's ratio, vv respectively\n",
        "Real =  np.array([L,E/1e9,rho/1e3,vv])\n",
        "Real"
      ],
      "metadata": {
        "colab": {
          "base_uri": "https://localhost:8080/"
        },
        "outputId": "3c0e1f06-8d1f-4770-ba88-2bdedeca340f",
        "id": "q5WDjRIuTW_f"
      },
      "execution_count": null,
      "outputs": [
        {
          "output_type": "execute_result",
          "data": {
            "text/plain": [
              "array([ 5.011     , 18.77305956,  1.25671287,  0.2       ])"
            ]
          },
          "metadata": {},
          "execution_count": 37
        }
      ]
    },
    {
      "cell_type": "code",
      "source": [
        "ga = GA(func=demo_func, n_dim= 4, size_pop= 20, max_iter= 15, prob_mut=0.05,\n",
        "        lb=[4.5, 15, 1, 0.18], ub=[6, 20, 1.5, 0.22], precision=[0.1, 0.1, 0.1,0.01])"
      ],
      "metadata": {
        "id": "2bgIyCWfTW_f"
      },
      "execution_count": null,
      "outputs": []
    },
    {
      "cell_type": "code",
      "source": [
        "Res = ga.run()"
      ],
      "metadata": {
        "colab": {
          "base_uri": "https://localhost:8080/"
        },
        "outputId": "a99de851-3d55-4da0-c1c3-53d43b754a8b",
        "id": "5RxzBpwWTW_g"
      },
      "execution_count": null,
      "outputs": [
        {
          "output_type": "stream",
          "name": "stderr",
          "text": [
            "/usr/local/lib/python3.7/dist-packages/ipykernel_launcher.py:63: DeprecationWarning: `np.complex` is a deprecated alias for the builtin `complex`. To silence this warning, use `complex` by itself. Doing this will not modify any behavior and is safe. If you specifically wanted the numpy scalar type, use `np.complex128` here.\n",
            "Deprecated in NumPy 1.20; for more details and guidance: https://numpy.org/devdocs/release/1.20.0-notes.html#deprecations\n",
            "/usr/local/lib/python3.7/dist-packages/ipykernel_launcher.py:64: DeprecationWarning: `np.complex` is a deprecated alias for the builtin `complex`. To silence this warning, use `complex` by itself. Doing this will not modify any behavior and is safe. If you specifically wanted the numpy scalar type, use `np.complex128` here.\n",
            "Deprecated in NumPy 1.20; for more details and guidance: https://numpy.org/devdocs/release/1.20.0-notes.html#deprecations\n",
            "/usr/local/lib/python3.7/dist-packages/scipy/optimize/zeros.py:650: ComplexWarning: Casting complex values to real discards the imaginary part\n",
            "  r = _zeros._ridder(f, a, b, xtol, rtol, maxiter, args, full_output, disp)\n"
          ]
        }
      ]
    },
    {
      "cell_type": "code",
      "source": [],
      "metadata": {
        "id": "3NCt-2quTW_g"
      },
      "execution_count": null,
      "outputs": []
    },
    {
      "cell_type": "markdown",
      "source": [
        "#### Inversion error"
      ],
      "metadata": {
        "id": "ij1FVil8TW_g"
      }
    },
    {
      "cell_type": "code",
      "source": [
        "# The are: Length L, E youbg's modulus, rho density, Poissio's ratio, vv respectively\n",
        "Real =  np.array([L,E/1e9,rho/1e3,vv])\n",
        "print(\"Real value of L,E,rho,vv\",Real)\n",
        "Res_Est = Res[0]\n",
        "print(\"Estimated value of L,E,rho,vv\",Res_Est)\n",
        "error_rate_fun(Real,Res_Est)"
      ],
      "metadata": {
        "colab": {
          "base_uri": "https://localhost:8080/"
        },
        "outputId": "ae6b467f-2f32-4aea-a56d-581adf11548d",
        "id": "7BX7bcrBTW_g"
      },
      "execution_count": null,
      "outputs": [
        {
          "output_type": "stream",
          "name": "stdout",
          "text": [
            "Real value of L,E,rho,vv [ 5.011      18.77305956  1.25671287  0.2       ]\n",
            "Estimated value of L,E,rho,vv [ 4.6        18.88888889  1.07142857  0.20285714]\n",
            "L_error 0.08201955697465585\n",
            "E_error -0.006169976196705318\n",
            "rho_error 0.14743566323084506\n",
            "vv_error -0.01428571428571418\n",
            "bar velocity: Cb_error 0.0863558216295061\n",
            "shear velocity: cs_error 0.0883203731513805\n",
            "longitudinal velocity: cp_error 0.08506484574668771\n"
          ]
        }
      ]
    },
    {
      "cell_type": "code",
      "source": [],
      "metadata": {
        "id": "v0WO3c1ATW_g"
      },
      "execution_count": null,
      "outputs": []
    },
    {
      "cell_type": "markdown",
      "source": [
        "#### Fitness record display"
      ],
      "metadata": {
        "id": "m6Ub2z-jTW_g"
      }
    },
    {
      "cell_type": "code",
      "source": [
        "import pandas as pd\n",
        "import matplotlib.pyplot as plt\n",
        "\n",
        "Y_history = pd.DataFrame(ga.all_history_Y)\n",
        "fig, ax = plt.subplots(1, 1)\n",
        "# ax[0].plot(Y_history.index, Y_history.values, '.', color='red')\n",
        "Y_history.min(axis=1).cummin().plot(kind='line')\n",
        "plt.xlabel(\"Iterations\")\n",
        "plt.ylabel(\"Fitness\")\n",
        "plt.show()"
      ],
      "metadata": {
        "colab": {
          "base_uri": "https://localhost:8080/",
          "height": 281
        },
        "outputId": "6d49a84d-0dbf-4397-909f-20b4e67b494f",
        "id": "wJqqdRepTW_h"
      },
      "execution_count": null,
      "outputs": [
        {
          "output_type": "display_data",
          "data": {
            "text/plain": [
              "<Figure size 432x288 with 1 Axes>"
            ],
            "image/png": "[encoded data removed]"
          },
          "metadata": {
            "needs_background": "light"
          }
        }
      ]
    },
    {
      "cell_type": "code",
      "source": [
        "Y_history.min(axis=1).cummin()"
      ],
      "metadata": {
        "colab": {
          "base_uri": "https://localhost:8080/"
        },
        "outputId": "696dfa52-ee4e-4c25-a6f6-8c62350b9f33",
        "id": "ZOQcOZbfTW_h"
      },
      "execution_count": null,
      "outputs": [
        {
          "output_type": "execute_result",
          "data": {
            "text/plain": [
              "0     578.557142\n",
              "1     289.146993\n",
              "2      59.076948\n",
              "3      59.076948\n",
              "4       0.126414\n",
              "5       0.126414\n",
              "6       0.126414\n",
              "7       0.126414\n",
              "8       0.126414\n",
              "9       0.094292\n",
              "10      0.000010\n",
              "11      0.000010\n",
              "12      0.000010\n",
              "13      0.000010\n",
              "14      0.000010\n",
              "dtype: float64"
            ]
          },
          "metadata": {},
          "execution_count": 42
        }
      ]
    },
    {
      "cell_type": "code",
      "source": [],
      "metadata": {
        "id": "ZGGGCDvCTQ7U"
      },
      "execution_count": null,
      "outputs": []
    },
    {
      "cell_type": "code",
      "source": [],
      "metadata": {
        "id": "vVkitZYiTS7i"
      },
      "execution_count": null,
      "outputs": []
    },
    {
      "cell_type": "markdown",
      "source": [
        "## Pile D"
      ],
      "metadata": {
        "id": "wafwcYXOUv4N"
      }
    },
    {
      "cell_type": "markdown",
      "source": [
        "### observation data"
      ],
      "metadata": {
        "id": "fB7MVrFPU5WK"
      }
    },
    {
      "cell_type": "code",
      "source": [
        "# Pile D\n",
        "# experimental data: SC and DC BC respectively\n",
        "# F_res = np.array([58.50, 109.20,171.60, 230.10, 271.50, 335.40, 395.85,497.25,629.85,686.40,742.95,859.95,973.05,1004.25])\n",
        "F_res = np.array([58.50, 109.20,171.60, 230.10, 271.50, 335.40, 395.85,497.25,629.85,686.40,742.95])\n",
        "# n = np.array([1,2,3,4,5,6,7,9,11,12,13,15,17,18])\n",
        "n = np.array([1,2,3,4,5,6,7,9,11,12,13])\n",
        "L = 31.80\n",
        "C_ph_res_s = 2*L*F_res/(n-0.5)\n",
        "C_ph_res_d = 2*L*F_res/(n)"
      ],
      "metadata": {
        "id": "2LZOGZDXU5WK"
      },
      "execution_count": null,
      "outputs": []
    },
    {
      "cell_type": "code",
      "source": [
        "F_res.shape[0]"
      ],
      "metadata": {
        "colab": {
          "base_uri": "https://localhost:8080/"
        },
        "outputId": "c7021c5c-ba56-4161-a4f6-49063f308953",
        "id": "Bq9i7eOWU5WL"
      },
      "execution_count": null,
      "outputs": [
        {
          "output_type": "execute_result",
          "data": {
            "text/plain": [
              "11"
            ]
          },
          "metadata": {},
          "execution_count": 44
        }
      ]
    },
    {
      "cell_type": "code",
      "source": [
        "n"
      ],
      "metadata": {
        "colab": {
          "base_uri": "https://localhost:8080/"
        },
        "outputId": "a77b33fa-f9f1-499d-862e-288ef80a7531",
        "id": "yKN6WkWnU5WL"
      },
      "execution_count": null,
      "outputs": [
        {
          "output_type": "execute_result",
          "data": {
            "text/plain": [
              "array([ 1,  2,  3,  4,  5,  6,  7,  9, 11, 12, 13])"
            ]
          },
          "metadata": {},
          "execution_count": 45
        }
      ]
    },
    {
      "cell_type": "code",
      "source": [
        "fn = F_res\n",
        "E = 18773059558.275; # Young’s modulus\n",
        "cb = 3833\n",
        "rho = E/cb**2;# density\n",
        "print(\"rho\",rho)\n",
        "vv = 0.15 # poisson's ratio\n",
        "r = 1.5/2\n",
        "m = 0 # Longitudinal\n",
        "dpr = DPR(fn,E,rho,vv,r,m)\n",
        "K_exp = dpr.run()"
      ],
      "metadata": {
        "colab": {
          "base_uri": "https://localhost:8080/"
        },
        "outputId": "baefc5b0-6e1f-4002-985e-85807b3fce21",
        "id": "1tN4pvkkU5WL"
      },
      "execution_count": null,
      "outputs": [
        {
          "output_type": "stream",
          "name": "stdout",
          "text": [
            "rho 1277.7839226987762\n"
          ]
        },
        {
          "output_type": "stream",
          "name": "stderr",
          "text": [
            "/usr/local/lib/python3.7/dist-packages/ipykernel_launcher.py:63: DeprecationWarning: `np.complex` is a deprecated alias for the builtin `complex`. To silence this warning, use `complex` by itself. Doing this will not modify any behavior and is safe. If you specifically wanted the numpy scalar type, use `np.complex128` here.\n",
            "Deprecated in NumPy 1.20; for more details and guidance: https://numpy.org/devdocs/release/1.20.0-notes.html#deprecations\n",
            "/usr/local/lib/python3.7/dist-packages/ipykernel_launcher.py:64: DeprecationWarning: `np.complex` is a deprecated alias for the builtin `complex`. To silence this warning, use `complex` by itself. Doing this will not modify any behavior and is safe. If you specifically wanted the numpy scalar type, use `np.complex128` here.\n",
            "Deprecated in NumPy 1.20; for more details and guidance: https://numpy.org/devdocs/release/1.20.0-notes.html#deprecations\n",
            "/usr/local/lib/python3.7/dist-packages/scipy/optimize/zeros.py:650: ComplexWarning: Casting complex values to real discards the imaginary part\n",
            "  r = _zeros._ridder(f, a, b, xtol, rtol, maxiter, args, full_output, disp)\n"
          ]
        }
      ]
    },
    {
      "cell_type": "markdown",
      "source": [
        "#### Experimental and theoretical phase velocity"
      ],
      "metadata": {
        "id": "1ydK_WQCU5WM"
      }
    },
    {
      "cell_type": "code",
      "source": [
        "import numpy as np\n",
        "np.set_printoptions(threshold=np.inf)\n",
        "f1 = F_res\n",
        "plt.plot(f1,np.array(K_exp),label = 'Theoretical',c = 'y')\n",
        "plt.scatter(f1,C_ph_res_s,label = 'Experimental: DCBC',c = 'red')\n",
        "plt.scatter(f1,C_ph_res_d,label = 'Experimental: SCBC',c = 'blue')\n",
        "plt.legend()\n",
        "plt.xlabel(\"Frequency (Hz)\")\n",
        "plt.ylabel(\"Phase velocity(m/s)\")"
      ],
      "metadata": {
        "colab": {
          "base_uri": "https://localhost:8080/",
          "height": 296
        },
        "outputId": "45c20f77-86fa-4b5b-c1d5-1f14ab15b228",
        "id": "2lGTw_7iU5WM"
      },
      "execution_count": null,
      "outputs": [
        {
          "output_type": "execute_result",
          "data": {
            "text/plain": [
              "Text(0, 0.5, 'Phase velocity(m/s)')"
            ]
          },
          "metadata": {},
          "execution_count": 47
        },
        {
          "output_type": "display_data",
          "data": {
            "text/plain": [
              "<Figure size 432x288 with 1 Axes>"
            ],
            "image/png": "[encoded data removed]"
          },
          "metadata": {
            "needs_background": "light"
          }
        }
      ]
    },
    {
      "cell_type": "code",
      "source": [],
      "metadata": {
        "id": "2h-nnw3EU5WM"
      },
      "execution_count": null,
      "outputs": []
    },
    {
      "cell_type": "markdown",
      "source": [
        "### GA for inversion"
      ],
      "metadata": {
        "id": "NpfnME8dU5WN"
      }
    },
    {
      "cell_type": "code",
      "source": [
        "import numpy as np\n",
        "from sko.GA import GA, GA_TSP\n",
        "fn = np.array(F_res) # experimental resonance frequency\n",
        "n = n # resonance number\n",
        "\n",
        "def demo_func(x):\n",
        "    L,En,rho_n,vv = x\n",
        "    dpr = DPR(fn,En*1e9,rho_n*1e3,vv,r)\n",
        "    d_temp = dpr.run()\n",
        "    fitness_d = np.abs(np.mean(d_temp/(2*L)-fn/(n)))**2 # the fitness using the displacement control boundary condition\n",
        "    fitness_s = np.abs(np.mean(d_temp/(2*L)-fn/(n-1/2)))**2 # the fitness using the stress control boundary condition\n",
        "    # Loss = fitness_d\n",
        "    Loss = fitness_s\n",
        "    return Loss"
      ],
      "metadata": {
        "id": "mvLYaVGhU5WN"
      },
      "execution_count": null,
      "outputs": []
    },
    {
      "cell_type": "code",
      "source": [
        "# The are: Length L, E youbg's modulus, rho density, Poissio's ratio, vv respectively\n",
        "Real =  np.array([L,E/1e9,rho/1e3,vv])\n",
        "Real"
      ],
      "metadata": {
        "colab": {
          "base_uri": "https://localhost:8080/"
        },
        "outputId": "3fec2963-d5fe-47bb-a9b8-b3aad6b3d1bd",
        "id": "e2PjbLqgU5WN"
      },
      "execution_count": null,
      "outputs": [
        {
          "output_type": "execute_result",
          "data": {
            "text/plain": [
              "array([31.8       , 18.77305956,  1.27778392,  0.15      ])"
            ]
          },
          "metadata": {},
          "execution_count": 49
        }
      ]
    },
    {
      "cell_type": "code",
      "source": [
        "ga = GA(func=demo_func, n_dim= 4, size_pop= 20, max_iter= 15, prob_mut=0.05,\n",
        "        lb=[28, 15, 1, 0.12], ub=[33, 20, 1.5, 0.18], precision=[0.1, 0.1, 0.1,0.01])"
      ],
      "metadata": {
        "id": "wQ0IdCwcU5WN"
      },
      "execution_count": null,
      "outputs": []
    },
    {
      "cell_type": "code",
      "source": [
        "Res = ga.run()"
      ],
      "metadata": {
        "colab": {
          "base_uri": "https://localhost:8080/"
        },
        "outputId": "2e8a81e9-cd2b-4c80-80bb-da41baa3ec34",
        "id": "TRSIPitqU5WN"
      },
      "execution_count": null,
      "outputs": [
        {
          "output_type": "stream",
          "name": "stderr",
          "text": [
            "/usr/local/lib/python3.7/dist-packages/ipykernel_launcher.py:63: DeprecationWarning: `np.complex` is a deprecated alias for the builtin `complex`. To silence this warning, use `complex` by itself. Doing this will not modify any behavior and is safe. If you specifically wanted the numpy scalar type, use `np.complex128` here.\n",
            "Deprecated in NumPy 1.20; for more details and guidance: https://numpy.org/devdocs/release/1.20.0-notes.html#deprecations\n",
            "/usr/local/lib/python3.7/dist-packages/ipykernel_launcher.py:64: DeprecationWarning: `np.complex` is a deprecated alias for the builtin `complex`. To silence this warning, use `complex` by itself. Doing this will not modify any behavior and is safe. If you specifically wanted the numpy scalar type, use `np.complex128` here.\n",
            "Deprecated in NumPy 1.20; for more details and guidance: https://numpy.org/devdocs/release/1.20.0-notes.html#deprecations\n",
            "/usr/local/lib/python3.7/dist-packages/scipy/optimize/zeros.py:650: ComplexWarning: Casting complex values to real discards the imaginary part\n",
            "  r = _zeros._ridder(f, a, b, xtol, rtol, maxiter, args, full_output, disp)\n"
          ]
        }
      ]
    },
    {
      "cell_type": "code",
      "source": [],
      "metadata": {
        "id": "7hah63BwU5WO"
      },
      "execution_count": null,
      "outputs": []
    },
    {
      "cell_type": "markdown",
      "source": [
        "#### Inversion error"
      ],
      "metadata": {
        "id": "exYk0RW3U5WO"
      }
    },
    {
      "cell_type": "code",
      "source": [
        "# The are: Length L, E youbg's modulus, rho density, Poissio's ratio, vv respectively\n",
        "Real =  np.array([L,E/1e9,rho/1e3,vv])\n",
        "print(\"Real value of L,E,rho,vv\",Real)\n",
        "Res_Est = Res[0]\n",
        "print(\"Estimated value of L,E,rho,vv\",Res_Est)\n",
        "error_rate_fun(Real,Res_Est)"
      ],
      "metadata": {
        "colab": {
          "base_uri": "https://localhost:8080/"
        },
        "outputId": "e427594e-b3eb-433d-fcc3-66c7be3a8fe5",
        "id": "oLzEAPAbU5WO"
      },
      "execution_count": null,
      "outputs": [
        {
          "output_type": "stream",
          "name": "stdout",
          "text": [
            "Real value of L,E,rho,vv [31.8        18.77305956  1.27778392  0.15      ]\n",
            "Estimated value of L,E,rho,vv [30.3015873  19.28571429  1.14285714  0.18      ]\n",
            "L_error 0.047119896176500004\n",
            "E_error -0.02730800090672006\n",
            "rho_error 0.10559436336987073\n",
            "vv_error -0.2\n",
            "bar velocity: Cb_error 0.07172428418699334\n",
            "shear velocity: cs_error 0.08679463132062383\n",
            "longitudinal velocity: cp_error 0.05801296110157993\n"
          ]
        }
      ]
    },
    {
      "cell_type": "code",
      "source": [],
      "metadata": {
        "id": "dfBfkC_kU5WO"
      },
      "execution_count": null,
      "outputs": []
    },
    {
      "cell_type": "markdown",
      "source": [
        "#### Fitness record display"
      ],
      "metadata": {
        "id": "LOi6b69IU5WO"
      }
    },
    {
      "cell_type": "code",
      "source": [
        "import pandas as pd\n",
        "import matplotlib.pyplot as plt\n",
        "\n",
        "Y_history = pd.DataFrame(ga.all_history_Y)\n",
        "fig, ax = plt.subplots(1, 1)\n",
        "# ax[0].plot(Y_history.index, Y_history.values, '.', color='red')\n",
        "Y_history.min(axis=1).cummin().plot(kind='line')\n",
        "plt.xlabel(\"Iterations\")\n",
        "plt.ylabel(\"Fitness\")\n",
        "plt.show()"
      ],
      "metadata": {
        "colab": {
          "base_uri": "https://localhost:8080/",
          "height": 278
        },
        "outputId": "595c6c2c-57e6-4fbf-9c71-6f6ea43af80d",
        "id": "2ByYQOy1U5WO"
      },
      "execution_count": null,
      "outputs": [
        {
          "output_type": "display_data",
          "data": {
            "text/plain": [
              "<Figure size 432x288 with 1 Axes>"
            ],
            "image/png": "[encoded data removed]"
          },
          "metadata": {
            "needs_background": "light"
          }
        }
      ]
    },
    {
      "cell_type": "code",
      "source": [
        "Y_history.min(axis=1).cummin()"
      ],
      "metadata": {
        "colab": {
          "base_uri": "https://localhost:8080/"
        },
        "outputId": "b6964fa3-d6bf-4378-fe27-3b8176cadf20",
        "id": "MIdcfCxXU5WO"
      },
      "execution_count": null,
      "outputs": [
        {
          "output_type": "execute_result",
          "data": {
            "text/plain": [
              "0     7.014700\n",
              "1     3.500649\n",
              "2     1.509317\n",
              "3     0.326433\n",
              "4     0.048533\n",
              "5     0.000213\n",
              "6     0.000213\n",
              "7     0.000213\n",
              "8     0.000213\n",
              "9     0.000213\n",
              "10    0.000213\n",
              "11    0.000213\n",
              "12    0.000133\n",
              "13    0.000133\n",
              "14    0.000133\n",
              "dtype: float64"
            ]
          },
          "metadata": {},
          "execution_count": 54
        }
      ]
    },
    {
      "cell_type": "code",
      "source": [],
      "metadata": {
        "id": "-vI7kl_RU4eX"
      },
      "execution_count": null,
      "outputs": []
    },
    {
      "cell_type": "code",
      "source": [],
      "metadata": {
        "id": "E0Wyutz7U4sN"
      },
      "execution_count": null,
      "outputs": []
    },
    {
      "cell_type": "markdown",
      "source": [
        "## Pile E"
      ],
      "metadata": {
        "id": "Zl5tzZPpU6ja"
      }
    },
    {
      "cell_type": "markdown",
      "source": [
        "### observation data"
      ],
      "metadata": {
        "id": "LpEA2hL3U6ja"
      }
    },
    {
      "cell_type": "code",
      "source": [
        "# Pile E\n",
        "# experimental data: SC and DC BC respectively\n",
        "F_res = np.array([89.84,187.50,265.63,355.47,453.13,527.34,617.19,734.38])\n",
        "n = np.linspace(1,F_res.shape[0],F_res.shape[0])\n",
        "L = 19.48\n",
        "C_ph_res_s = 2*L*F_res/(n-0.5)\n",
        "C_ph_res_d = 2*L*F_res/(n)"
      ],
      "metadata": {
        "id": "uK1Anf9HU6ja"
      },
      "execution_count": null,
      "outputs": []
    },
    {
      "cell_type": "code",
      "source": [
        "F_res.shape[0]"
      ],
      "metadata": {
        "colab": {
          "base_uri": "https://localhost:8080/"
        },
        "outputId": "32a53672-5cb6-4d59-8c38-a02c9057d86a",
        "id": "IW0XVfANU6jb"
      },
      "execution_count": null,
      "outputs": [
        {
          "output_type": "execute_result",
          "data": {
            "text/plain": [
              "8"
            ]
          },
          "metadata": {},
          "execution_count": 56
        }
      ]
    },
    {
      "cell_type": "code",
      "source": [
        "n"
      ],
      "metadata": {
        "colab": {
          "base_uri": "https://localhost:8080/"
        },
        "outputId": "bb39197e-4a54-43a6-f606-c721565927a1",
        "id": "rUJDdjumU6jb"
      },
      "execution_count": null,
      "outputs": [
        {
          "output_type": "execute_result",
          "data": {
            "text/plain": [
              "array([1., 2., 3., 4., 5., 6., 7., 8.])"
            ]
          },
          "metadata": {},
          "execution_count": 57
        }
      ]
    },
    {
      "cell_type": "code",
      "source": [
        "fn = F_res\n",
        "E = 18773059558.275; # Young’s modulus\n",
        "cb = 3643\n",
        "rho = E/cb**2;# density\n",
        "print(\"rho\",rho)\n",
        "vv = 0.2 # poisson's ratio\n",
        "r = 1/2\n",
        "m = 0 # Longitudinal\n",
        "dpr = DPR(fn,E,rho,vv,r,m)\n",
        "K_exp = dpr.run()"
      ],
      "metadata": {
        "colab": {
          "base_uri": "https://localhost:8080/"
        },
        "outputId": "84dc82aa-6ba1-47f0-d6cb-8d9723ef1b2d",
        "id": "bAfDTDoRU6jb"
      },
      "execution_count": null,
      "outputs": [
        {
          "output_type": "stream",
          "name": "stdout",
          "text": [
            "rho 1414.5448291497787\n"
          ]
        },
        {
          "output_type": "stream",
          "name": "stderr",
          "text": [
            "/usr/local/lib/python3.7/dist-packages/ipykernel_launcher.py:63: DeprecationWarning: `np.complex` is a deprecated alias for the builtin `complex`. To silence this warning, use `complex` by itself. Doing this will not modify any behavior and is safe. If you specifically wanted the numpy scalar type, use `np.complex128` here.\n",
            "Deprecated in NumPy 1.20; for more details and guidance: https://numpy.org/devdocs/release/1.20.0-notes.html#deprecations\n",
            "/usr/local/lib/python3.7/dist-packages/ipykernel_launcher.py:64: DeprecationWarning: `np.complex` is a deprecated alias for the builtin `complex`. To silence this warning, use `complex` by itself. Doing this will not modify any behavior and is safe. If you specifically wanted the numpy scalar type, use `np.complex128` here.\n",
            "Deprecated in NumPy 1.20; for more details and guidance: https://numpy.org/devdocs/release/1.20.0-notes.html#deprecations\n",
            "/usr/local/lib/python3.7/dist-packages/scipy/optimize/zeros.py:650: ComplexWarning: Casting complex values to real discards the imaginary part\n",
            "  r = _zeros._ridder(f, a, b, xtol, rtol, maxiter, args, full_output, disp)\n"
          ]
        }
      ]
    },
    {
      "cell_type": "markdown",
      "source": [
        "#### Experimental and theoretical phase velocity"
      ],
      "metadata": {
        "id": "0BOndndpU6jb"
      }
    },
    {
      "cell_type": "code",
      "source": [
        "import numpy as np\n",
        "np.set_printoptions(threshold=np.inf)\n",
        "f1 = F_res\n",
        "plt.plot(f1,np.array(K_exp),label = 'Theoretical',c = 'y')\n",
        "plt.scatter(f1,C_ph_res_s,label = 'Experimental: DCBC',c = 'red')\n",
        "plt.scatter(f1,C_ph_res_d,label = 'Experimental: SCBC',c = 'blue')\n",
        "plt.legend()\n",
        "plt.xlabel(\"Frequency (Hz)\")\n",
        "plt.ylabel(\"Phase velocity(m/s)\")"
      ],
      "metadata": {
        "colab": {
          "base_uri": "https://localhost:8080/",
          "height": 296
        },
        "outputId": "8674e745-dede-4842-e267-e6802f0a96fd",
        "id": "lg9QKcDXU6jb"
      },
      "execution_count": null,
      "outputs": [
        {
          "output_type": "execute_result",
          "data": {
            "text/plain": [
              "Text(0, 0.5, 'Phase velocity(m/s)')"
            ]
          },
          "metadata": {},
          "execution_count": 59
        },
        {
          "output_type": "display_data",
          "data": {
            "text/plain": [
              "<Figure size 432x288 with 1 Axes>"
            ],
            "image/png": "[encoded data removed]"
          },
          "metadata": {
            "needs_background": "light"
          }
        }
      ]
    },
    {
      "cell_type": "code",
      "source": [],
      "metadata": {
        "id": "pU8MJO12U6jc"
      },
      "execution_count": null,
      "outputs": []
    },
    {
      "cell_type": "markdown",
      "source": [
        "### GA for inversion"
      ],
      "metadata": {
        "id": "lM2-mj6pU6jc"
      }
    },
    {
      "cell_type": "code",
      "source": [
        "import numpy as np\n",
        "from sko.GA import GA, GA_TSP\n",
        "fn = np.array(F_res) # experimental resonance frequency\n",
        "n = n # resonance number\n",
        "\n",
        "def demo_func(x):\n",
        "    L,En,rho_n,vv = x\n",
        "    dpr = DPR(fn,En*1e9,rho_n*1e3,vv,r)\n",
        "    d_temp = dpr.run()\n",
        "    fitness_d = np.abs(np.mean(d_temp/(2*L)-fn/(n)))**2 # the fitness using the displacement control boundary condition\n",
        "    fitness_s = np.abs(np.mean(d_temp/(2*L)-fn/(n-1/2)))**2 # the fitness using the stress control boundary condition\n",
        "    # Loss = fitness_d\n",
        "    Loss = fitness_s\n",
        "    return Loss"
      ],
      "metadata": {
        "id": "Th94qwUsU6jc"
      },
      "execution_count": null,
      "outputs": []
    },
    {
      "cell_type": "code",
      "source": [
        "# The are: Length L, E youbg's modulus, rho density, Poissio's ratio, vv respectively\n",
        "Real =  np.array([L,E/1e9,rho/1e3,vv])\n",
        "Real"
      ],
      "metadata": {
        "colab": {
          "base_uri": "https://localhost:8080/"
        },
        "outputId": "8c853599-62fb-4ff5-8620-9be86c0a686c",
        "id": "i_kud_bqU6jc"
      },
      "execution_count": null,
      "outputs": [
        {
          "output_type": "execute_result",
          "data": {
            "text/plain": [
              "array([19.48      , 18.77305956,  1.41454483,  0.2       ])"
            ]
          },
          "metadata": {},
          "execution_count": 61
        }
      ]
    },
    {
      "cell_type": "code",
      "source": [
        "ga = GA(func=demo_func, n_dim= 4, size_pop= 20, max_iter= 15, prob_mut=0.05,\n",
        "        lb=[18, 15, 1, 0.18], ub=[22, 20, 1.5, 0.22], precision=[0.1, 0.1, 0.1,0.01])"
      ],
      "metadata": {
        "id": "k8l7XmdsU6jd"
      },
      "execution_count": null,
      "outputs": []
    },
    {
      "cell_type": "code",
      "source": [
        "Res = ga.run()"
      ],
      "metadata": {
        "colab": {
          "base_uri": "https://localhost:8080/"
        },
        "outputId": "b7fae317-c212-4591-ccc1-7fc9d839b819",
        "id": "GIx0NUdUU6jd"
      },
      "execution_count": null,
      "outputs": [
        {
          "output_type": "stream",
          "name": "stderr",
          "text": [
            "/usr/local/lib/python3.7/dist-packages/ipykernel_launcher.py:63: DeprecationWarning: `np.complex` is a deprecated alias for the builtin `complex`. To silence this warning, use `complex` by itself. Doing this will not modify any behavior and is safe. If you specifically wanted the numpy scalar type, use `np.complex128` here.\n",
            "Deprecated in NumPy 1.20; for more details and guidance: https://numpy.org/devdocs/release/1.20.0-notes.html#deprecations\n",
            "/usr/local/lib/python3.7/dist-packages/ipykernel_launcher.py:64: DeprecationWarning: `np.complex` is a deprecated alias for the builtin `complex`. To silence this warning, use `complex` by itself. Doing this will not modify any behavior and is safe. If you specifically wanted the numpy scalar type, use `np.complex128` here.\n",
            "Deprecated in NumPy 1.20; for more details and guidance: https://numpy.org/devdocs/release/1.20.0-notes.html#deprecations\n",
            "/usr/local/lib/python3.7/dist-packages/scipy/optimize/zeros.py:650: ComplexWarning: Casting complex values to real discards the imaginary part\n",
            "  r = _zeros._ridder(f, a, b, xtol, rtol, maxiter, args, full_output, disp)\n"
          ]
        }
      ]
    },
    {
      "cell_type": "code",
      "source": [],
      "metadata": {
        "id": "a3rlwlQgU6je"
      },
      "execution_count": null,
      "outputs": []
    },
    {
      "cell_type": "markdown",
      "source": [
        "#### Inversion error"
      ],
      "metadata": {
        "id": "IFS8WF1UU6je"
      }
    },
    {
      "cell_type": "code",
      "source": [
        "# The are: Length L, E youbg's modulus, rho density, Poissio's ratio, vv respectively\n",
        "Real =  np.array([L,E/1e9,rho/1e3,vv])\n",
        "print(\"Real value of L,E,rho,vv\",Real)\n",
        "Res_Est = Res[0]\n",
        "print(\"Estimated value of L,E,rho,vv\",Res_Est)\n",
        "error_rate_fun(Real,Res_Est)"
      ],
      "metadata": {
        "colab": {
          "base_uri": "https://localhost:8080/"
        },
        "outputId": "6ffe5e0c-2204-461c-e117-5cdb8b0ef6d1",
        "id": "Ulu3hTRQU6je"
      },
      "execution_count": null,
      "outputs": [
        {
          "output_type": "stream",
          "name": "stdout",
          "text": [
            "Real value of L,E,rho,vv [19.48       18.77305956  1.41454483  0.2       ]\n",
            "Estimated value of L,E,rho,vv [18.38095238 19.68253968  1.14285714  0.18571429]\n",
            "L_error 0.05641928229197232\n",
            "E_error -0.04844602561673499\n",
            "rho_error 0.19206721532885987\n",
            "vv_error 0.07142857142857145\n",
            "bar velocity: Cb_error 0.1391618261495775\n",
            "shear velocity: cs_error 0.12960795271004893\n",
            "longitudinal velocity: cp_error 0.14600370043527236\n"
          ]
        }
      ]
    },
    {
      "cell_type": "code",
      "source": [],
      "metadata": {
        "id": "1QGTBrXuU6jf"
      },
      "execution_count": null,
      "outputs": []
    },
    {
      "cell_type": "markdown",
      "source": [
        "#### Fitness record display"
      ],
      "metadata": {
        "id": "chShfl2bU6jf"
      }
    },
    {
      "cell_type": "code",
      "source": [
        "import pandas as pd\n",
        "import matplotlib.pyplot as plt\n",
        "\n",
        "Y_history = pd.DataFrame(ga.all_history_Y)\n",
        "fig, ax = plt.subplots(1, 1)\n",
        "# ax[0].plot(Y_history.index, Y_history.values, '.', color='red')\n",
        "Y_history.min(axis=1).cummin().plot(kind='line')\n",
        "plt.xlabel(\"Iterations\")\n",
        "plt.ylabel(\"Fitness\")\n",
        "plt.show()"
      ],
      "metadata": {
        "colab": {
          "base_uri": "https://localhost:8080/",
          "height": 278
        },
        "outputId": "2a554eb5-e2f2-41f2-e011-494cb1de4042",
        "id": "6IaxkN1wU6jf"
      },
      "execution_count": null,
      "outputs": [
        {
          "output_type": "display_data",
          "data": {
            "text/plain": [
              "<Figure size 432x288 with 1 Axes>"
            ],
            "image/png": "[encoded data removed]"
          },
          "metadata": {
            "needs_background": "light"
          }
        }
      ]
    },
    {
      "cell_type": "code",
      "source": [
        "Y_history.min(axis=1).cummin()"
      ],
      "metadata": {
        "colab": {
          "base_uri": "https://localhost:8080/"
        },
        "outputId": "d32b2dac-fc54-4c42-bb89-2bdd23991f1a",
        "id": "PWsD9X8DU6jf"
      },
      "execution_count": null,
      "outputs": [
        {
          "output_type": "execute_result",
          "data": {
            "text/plain": [
              "0     36.068604\n",
              "1      6.181504\n",
              "2      5.353480\n",
              "3      0.001010\n",
              "4      0.000601\n",
              "5      0.000601\n",
              "6      0.000601\n",
              "7      0.000601\n",
              "8      0.000601\n",
              "9      0.000601\n",
              "10     0.000601\n",
              "11     0.000601\n",
              "12     0.000601\n",
              "13     0.000601\n",
              "14     0.000601\n",
              "dtype: float64"
            ]
          },
          "metadata": {},
          "execution_count": 66
        }
      ]
    }
  ]
}